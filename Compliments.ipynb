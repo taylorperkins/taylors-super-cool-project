{
 "cells": [
  {
   "cell_type": "code",
   "execution_count": 1,
   "metadata": {},
   "outputs": [],
   "source": [
    "from bs4 import BeautifulSoup\n",
    "import requests"
   ]
  },
  {
   "cell_type": "markdown",
   "metadata": {},
   "source": [
    "---\n",
    "\n",
    "## Goal\n",
    "\n",
    "Treat yo-self.\n",
    "Also.. \n",
    "Compliment yo-self.\n",
    "\n",
    "Create a simple web scraper to pull a list of complimnents, and say them back to yourself."
   ]
  },
  {
   "cell_type": "code",
   "execution_count": 2,
   "metadata": {},
   "outputs": [],
   "source": [
    "URL = 'https://thinkkindness.org/kindness-ideas/a-list-of-100-compliments/'"
   ]
  },
  {
   "cell_type": "code",
   "execution_count": 3,
   "metadata": {},
   "outputs": [
    {
     "data": {
      "text/plain": [
       "200"
      ]
     },
     "execution_count": 3,
     "metadata": {},
     "output_type": "execute_result"
    }
   ],
   "source": [
    "response = requests.get(URL)\n",
    "response.status_code"
   ]
  },
  {
   "cell_type": "code",
   "execution_count": 4,
   "metadata": {},
   "outputs": [
    {
     "data": {
      "text/plain": [
       "<title>A list of 100 Compliments - Think Kindness</title>"
      ]
     },
     "execution_count": 4,
     "metadata": {},
     "output_type": "execute_result"
    }
   ],
   "source": [
    "soup = BeautifulSoup(response.text, 'html.parser')\n",
    "soup.title"
   ]
  },
  {
   "cell_type": "code",
   "execution_count": 5,
   "metadata": {},
   "outputs": [
    {
     "data": {
      "text/plain": [
       "<ol class=\"fancy_list\">\n",
       "<li>You’re that “Nothing” when people ask me what I’m thinking about.</li>\n",
       "<li>You look great today.</li>\n",
       "<li>You’re a smart cookie.</li>\n",
       "<li>I bet you make babies smile.</li>\n",
       "<li>You have impeccable manners.</li>\n",
       "<li>I like your style.</li>\n",
       "<li>You have the best laugh.</li>\n",
       "<li>I appreciate you.</li>\n",
       "<li>You are the most perfect you there is.</li>\n",
       "<li>Our system of inside jokes is so advanced that only you and I get it. And I like that.</li>\n",
       "<li>You’re strong.</li>\n",
       "<li>Your perspective is refreshing.</li>\n",
       "<li>You’re an awesome friend.</li>\n",
       "<li>You light up the room.</li>\n",
       "<li>You deserve a hug right now.</li>\n",
       "<li>You should be proud of yourself.</li>\n",
       "<li>You’re more helpful than you realize.</li>\n",
       "<li>You have a great sense of humor.</li>\n",
       "<li>You’ve got all the right moves!</li>\n",
       "<li>Is that your picture next to “charming” in the dictionary?</li>\n",
       "<li>Your kindness is a balm to all who encounter it.</li>\n",
       "<li>You’re all that and a super-size bag of chips.</li>\n",
       "<li>On a scale from 1 to 10, you’re an 11.</li>\n",
       "<li>You are brave.</li>\n",
       "<li>You’re even more beautiful on the inside than you are on the outside.</li>\n",
       "<li>You have the courage of your convictions.</li>\n",
       "<li>Aside from food. You’re my favorite.</li>\n",
       "<li>If cartoon bluebirds were real, a bunch of them would be sitting on your shoulders singing right now.</li>\n",
       "<li>You are making a difference.</li>\n",
       "<li>You’re like sunshine on a rainy day.</li>\n",
       "<li>You bring out the best in other people.</li>\n",
       "<li>Your ability to recall random factoids at just the right time is impressive.</li>\n",
       "<li>You’re a great listener.</li>\n",
       "<li>How is it that you always look great, even in sweatpants?</li>\n",
       "<li>Everything would be better if more people were like you!</li>\n",
       "<li>I bet you sweat glitter.</li>\n",
       "<li>You were cool way before hipsters were cool.</li>\n",
       "<li>That color is perfect on you.</li>\n",
       "<li>Hanging out with you is always a blast.</li>\n",
       "<li>You always know — and say — exactly what I need to hear when I need to hear it.</li>\n",
       "<li>You smell really good.</li>\n",
       "<li>You may dance like no one’s watching, but everyone’s watching because you’re an amazing dancer!</li>\n",
       "<li>Being around you makes everything better!</li>\n",
       "<li>When you say, “I meant to do that,” I totally believe you.</li>\n",
       "<li>When you’re not afraid to be yourself is when you’re most incredible.</li>\n",
       "<li>Colors seem brighter when you’re around.</li>\n",
       "<li>You’re more fun than a ball pit filled with candy. (And seriously, what could be more fun than that?)</li>\n",
       "<li>That thing you don’t like about yourself is what makes you so interesting.</li>\n",
       "<li>You’re wonderful.</li>\n",
       "<li>Everyday is just BLAH when I don’t see you For reals! <em>(awesome – you are halfway through the list. You’re awesome!)</em></li>\n",
       "<li>Jokes are funnier when you tell them.</li>\n",
       "<li>You’re better than a triple-scoop ice cream cone. With sprinkles.</li>\n",
       "<li>Your bellybutton is kind of adorable.</li>\n",
       "<li>Your hair looks stunning.</li>\n",
       "<li>You’re one of a kind!</li>\n",
       "<li>You’re inspiring.</li>\n",
       "<li>If you were a box of crayons, you’d be the giant name-brand one with the built-in sharpener.</li>\n",
       "<li>You should be thanked more often. So thank you!!</li>\n",
       "<li>Our community is better because you’re in it.</li>\n",
       "<li>Someone is getting through something hard right now because you’ve got their back.</li>\n",
       "<li>You have the best ideas.</li>\n",
       "<li>You always know how to find that silver lining.</li>\n",
       "<li>Everyone gets knocked down sometimes, but you always get back up and keep going.</li>\n",
       "<li>You’re a candle in the darkness.</li>\n",
       "<li>You’re a great example to others.</li>\n",
       "<li>Being around you is like being on a happy little vacation.</li>\n",
       "<li>You always know just what to say.</li>\n",
       "<li>You’re always learning new things and trying to better yourself, which is awesome.</li>\n",
       "<li>If someone based an Internet meme on you, it would have impeccable grammar.</li>\n",
       "<li>You could survive a Zombie apocalypse.</li>\n",
       "<li>You’re more fun than bubble wrap.</li>\n",
       "<li>When you make a mistake, you fix it.</li>\n",
       "<li>Who raised you? They deserve a medal for a job well done.</li>\n",
       "<li>You’re great at figuring stuff out.</li>\n",
       "<li>Your voice is magnificent.</li>\n",
       "<li>The people you love are lucky to have you in their lives.</li>\n",
       "<li>You’re like a breath of fresh air.</li>\n",
       "<li>You’re gorgeous — and that’s the least interesting thing about you, too.</li>\n",
       "<li>You’re so thoughtful.</li>\n",
       "<li>Your creative potential seems limitless.</li>\n",
       "<li>You’re the coolest person I know. And I consider myself bet friends with like all celebrities, so. . . .</li>\n",
       "<li>You’re irresistible when you blush.</li>\n",
       "<li>Actions speak louder than words, and yours tell an incredible story.</li>\n",
       "<li>Somehow you make time stop and fly at the same time.</li>\n",
       "<li>When you make up your mind about something, nothing stands in your way.</li>\n",
       "<li>You seem to really know who you are.</li>\n",
       "<li>Any team would be lucky to have you on it.</li>\n",
       "<li>In high school I bet you were voted “most likely to keep being awesome.”</li>\n",
       "<li>I bet you do the crossword puzzle in ink.</li>\n",
       "<li>Babies and small animals probably love you.</li>\n",
       "<li>If you were a scented candle they’d call it Perfectly Imperfect (and it would smell like summer).</li>\n",
       "<li>There’s ordinary, and then there’s you.</li>\n",
       "<li>You’re someone’s reason to smile.</li>\n",
       "<li>You’re even better than a unicorn, because you’re real.</li>\n",
       "<li>How do you keep being so funny and making everyone laugh?</li>\n",
       "<li>You have a good head on your shoulders.</li>\n",
       "<li>Has anyone ever told you that you have great posture?</li>\n",
       "<li>The way you treasure your loved ones is incredible.</li>\n",
       "<li>You’re really something special.</li>\n",
       "<li>You’re a gift to those around you.</li>\n",
       "</ol>"
      ]
     },
     "execution_count": 5,
     "metadata": {},
     "output_type": "execute_result"
    }
   ],
   "source": [
    "soup.find('ol', {'class': 'fancy_list'})"
   ]
  },
  {
   "cell_type": "code",
   "execution_count": 6,
   "metadata": {},
   "outputs": [],
   "source": [
    "compliments = [li.text for li in soup.find('ol', {'class': 'fancy_list'}).findAll('li')]"
   ]
  },
  {
   "cell_type": "code",
   "execution_count": 7,
   "metadata": {},
   "outputs": [
    {
     "data": {
      "text/plain": [
       "'You’re that “Nothing” when people ask me what I’m thinking about.'"
      ]
     },
     "execution_count": 7,
     "metadata": {},
     "output_type": "execute_result"
    }
   ],
   "source": [
    "compliments[0]"
   ]
  },
  {
   "cell_type": "markdown",
   "metadata": {},
   "source": [
    "---\n",
    "\n",
    "### Start the compliments\n",
    "Ok!\n",
    "Now we have some compliments. \n",
    "Time to create a function to help make me feel better about myself."
   ]
  },
  {
   "cell_type": "code",
   "execution_count": 8,
   "metadata": {},
   "outputs": [],
   "source": [
    "from random import choice\n",
    "\n",
    "\n",
    "def compliment(recipient, compliments):\n",
    "    while True:\n",
    "        compliment = choice(compliments)\n",
    "        compliment = compliment[0].lower() + compliment[1:]\n",
    "        \n",
    "        yield f\"{recipient}, {compliment}\""
   ]
  },
  {
   "cell_type": "code",
   "execution_count": 9,
   "metadata": {},
   "outputs": [],
   "source": [
    "compliment_gen = compliment(\"Taylor\", compliments)"
   ]
  },
  {
   "cell_type": "code",
   "execution_count": 10,
   "metadata": {},
   "outputs": [
    {
     "data": {
      "text/plain": [
       "'Taylor, when you make up your mind about something, nothing stands in your way.'"
      ]
     },
     "execution_count": 10,
     "metadata": {},
     "output_type": "execute_result"
    }
   ],
   "source": [
    "next(compliment_gen)"
   ]
  },
  {
   "cell_type": "code",
   "execution_count": 11,
   "metadata": {},
   "outputs": [
    {
     "name": "stdout",
     "output_type": "stream",
     "text": [
      "Taylor, on a scale from 1 to 10, you’re an 11.\n",
      "Taylor, the people you love are lucky to have you in their lives.\n",
      "Taylor, you should be thanked more often. So thank you!!\n",
      "Taylor, you’re an awesome friend.\n",
      "Taylor, everything would be better if more people were like you!\n",
      "Taylor, you’re always learning new things and trying to better yourself, which is awesome.\n",
      "Taylor, you were cool way before hipsters were cool.\n",
      "Taylor, you always know — and say — exactly what I need to hear when I need to hear it.\n",
      "Taylor, when you’re not afraid to be yourself is when you’re most incredible.\n",
      "Taylor, you bring out the best in other people.\n",
      "Taylor, i bet you do the crossword puzzle in ink.\n",
      "Taylor, when you say, “I meant to do that,” I totally believe you.\n",
      "Taylor, you are the most perfect you there is.\n",
      "Taylor, that thing you don’t like about yourself is what makes you so interesting.\n",
      "Taylor, there’s ordinary, and then there’s you.\n",
      "Taylor, i bet you make babies smile.\n",
      "Taylor, you’re better than a triple-scoop ice cream cone. With sprinkles.\n",
      "Taylor, you’re always learning new things and trying to better yourself, which is awesome.\n",
      "Taylor, you’re inspiring.\n",
      "Taylor, your hair looks stunning.\n"
     ]
    }
   ],
   "source": [
    "for _ in range(20):\n",
    "    print(next(compliment_gen))"
   ]
  },
  {
   "cell_type": "code",
   "execution_count": null,
   "metadata": {},
   "outputs": [],
   "source": []
  }
 ],
 "metadata": {
  "kernelspec": {
   "display_name": "Python 3",
   "language": "python",
   "name": "python3"
  },
  "language_info": {
   "codemirror_mode": {
    "name": "ipython",
    "version": 3
   },
   "file_extension": ".py",
   "mimetype": "text/x-python",
   "name": "python",
   "nbconvert_exporter": "python",
   "pygments_lexer": "ipython3",
   "version": "3.7.6"
  }
 },
 "nbformat": 4,
 "nbformat_minor": 4
}
